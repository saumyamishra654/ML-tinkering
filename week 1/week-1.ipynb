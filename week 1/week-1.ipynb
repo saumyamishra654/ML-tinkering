{
 "cells": [
  {
   "cell_type": "code",
   "execution_count": 2,
   "id": "09b6492d",
   "metadata": {},
   "outputs": [],
   "source": [
    "import numpy as np\n",
    "import math\n",
    "import matplotlib.pyplot as plt"
   ]
  },
  {
   "cell_type": "markdown",
   "id": "bb615e43",
   "metadata": {},
   "source": [
    "Argmax"
   ]
  },
  {
   "cell_type": "code",
   "execution_count": 3,
   "id": "30dfd742",
   "metadata": {},
   "outputs": [
    {
     "name": "stdout",
     "output_type": "stream",
     "text": [
      "1\n"
     ]
    }
   ],
   "source": [
    "#argmax is defined as the index of the maximum value in a given array\n",
    "def Argmax(x):\n",
    "    y = max(x)\n",
    "    return x.index(y)\n",
    "\n",
    "x = [1, 5, 4, 3]\n",
    "print(Argmax(x))"
   ]
  },
  {
   "cell_type": "markdown",
   "id": "6a3ab2d4",
   "metadata": {},
   "source": [
    "Mean"
   ]
  },
  {
   "cell_type": "code",
   "execution_count": 4,
   "id": "0c02375a",
   "metadata": {},
   "outputs": [
    {
     "name": "stdout",
     "output_type": "stream",
     "text": [
      "3.25\n"
     ]
    }
   ],
   "source": [
    "#mean is just sum of all elements divided by number of elements\n",
    "def Mean(x):\n",
    "    total = 0\n",
    "    for i in range(len(x)):\n",
    "        total += x[i]\n",
    "    mean = total/len(x)\n",
    "    return mean\n",
    "\n",
    "print(Mean(x))"
   ]
  },
  {
   "cell_type": "markdown",
   "id": "8a950496",
   "metadata": {},
   "source": [
    "Softmax"
   ]
  },
  {
   "cell_type": "code",
   "execution_count": 5,
   "id": "5a998d1c",
   "metadata": {},
   "outputs": [],
   "source": [
    "x = [1, 2, 3]\n",
    "# x = [1001. 1002, 1003]"
   ]
  },
  {
   "cell_type": "code",
   "execution_count": 6,
   "id": "c41cd191",
   "metadata": {},
   "outputs": [
    {
     "name": "stdout",
     "output_type": "stream",
     "text": [
      "sum of softmax probabilities: 1.0\n",
      "[0.09003057317038046, 0.24472847105479767, 0.6652409557748219]\n"
     ]
    }
   ],
   "source": [
    "#softmax formula is used to turn raw numbers into probability scores that sum up to one\n",
    "#using the same array as above\n",
    "def Softmax(x):\n",
    "    soft = []\n",
    "    exp = []\n",
    "    for i in range(len(x)):\n",
    "        z = x[i]\n",
    "        exp.append(np.exp(z)) #using .append adds elements, dont need to know length of array beforehand\n",
    "\n",
    "    s = np.sum(exp)\n",
    "    for i in range(len(x)):\n",
    "        z = exp[i]\n",
    "        soft.append(z/s)\n",
    "\n",
    "    print(\"sum of softmax probabilities:\", np.sum(soft)) #to verify that sum is 1\n",
    "    return soft\n",
    "\n",
    "print(Softmax(x))"
   ]
  },
  {
   "cell_type": "markdown",
   "id": "8308bf9e",
   "metadata": {},
   "source": [
    "softmax with numerical stability"
   ]
  },
  {
   "cell_type": "code",
   "execution_count": 7,
   "id": "b0e025fd",
   "metadata": {},
   "outputs": [
    {
     "name": "stdout",
     "output_type": "stream",
     "text": [
      "[0.09003057317038046, 0.24472847105479764, 0.6652409557748218]\n"
     ]
    }
   ],
   "source": [
    "#same thing as above, but subtbract the max from each element for numerical stability\n",
    "def Softmax_stable(x):\n",
    "    soft = []\n",
    "    exp = []\n",
    "    maax = max(x)\n",
    "    for i in range(len(x)):\n",
    "        z = x[i]\n",
    "        exp.append(np.exp(z - maax)) #subtracting max from each element\n",
    "\n",
    "    s = np.sum(exp)\n",
    "    for i in range(len(x)):\n",
    "        z = exp[i]\n",
    "        soft.append(z/s)\n",
    "    return soft\n",
    "\n",
    "print(Softmax_stable(x))"
   ]
  },
  {
   "cell_type": "markdown",
   "id": "6ab98714",
   "metadata": {},
   "source": [
    "log soft max"
   ]
  },
  {
   "cell_type": "code",
   "execution_count": 8,
   "id": "3a97e6ad",
   "metadata": {},
   "outputs": [
    {
     "name": "stdout",
     "output_type": "stream",
     "text": [
      "[-2.40760596 -1.40760596 -0.40760596]\n"
     ]
    }
   ],
   "source": [
    "def log_softmax(x):\n",
    "    x = np.array(x, dtype=float)\n",
    "    x = x - np.max(x)  # for numerical stability\n",
    "    return x - np.log(np.sum(np.exp(x))) #np.log is natural log, and np.exp is exponential function\n",
    "\n",
    "print(log_softmax(x))"
   ]
  },
  {
   "cell_type": "markdown",
   "id": "682b28c3",
   "metadata": {},
   "source": [
    "# loss functions\n",
    "1. Mean Squared Error (MSE)\n",
    "2. Mean Absolute Error (MAE)\n",
    "3. Binary Cross Entropy\n",
    "4. Categorical Cross Entropy\n",
    "5. Hinge Loss\n",
    "6. KL Divergence"
   ]
  },
  {
   "cell_type": "code",
   "execution_count": 9,
   "id": "1fbeb4c4",
   "metadata": {},
   "outputs": [
    {
     "name": "stdout",
     "output_type": "stream",
     "text": [
      "0.6666666666666666\n",
      "0.6666666666666666\n",
      "0.8513379400174842\n",
      "0.3635480396729776\n",
      "0.0\n",
      "0.020135513550688863\n"
     ]
    }
   ],
   "source": [
    "#1. Mean Squared Error (MSE)\n",
    "# mean squared error is given by the sum of squares of the error between the expected term and the predicted term. divided by number of samples\n",
    "# L = 1/n * Σ(y_true - y_pred)^2\n",
    "\n",
    "pred = [1, 3, 4]\n",
    "ground = [2, 3, 5]\n",
    "\n",
    "def mse(pred, ground):\n",
    "    npred = np.array(pred)\n",
    "    nground = np.array(ground)\n",
    "    return np.mean((npred - nground)**2) #np.mean computes mean of all elements in the array\n",
    "\n",
    "print(mse(pred, ground))\n",
    "\n",
    "#mean absolute error is given by the sum of absolute error between expected and predicted terms, divided by number of samples\n",
    "# L = 1/n * Σ|y_true - y_pred|\n",
    "def mae(pred, ground):\n",
    "    npred = np.array(pred)\n",
    "    nground = np.array(ground)\n",
    "    return np.mean(np.abs(npred - nground))\n",
    "\n",
    "print(mae(pred,ground))\n",
    "\n",
    "#binary cross entropy is used in binary classification, assigns probability in [0,1] for each element\n",
    "#L = -(1/n)*Σ(y(log(y_hat) + (1 - y)log(1 - y))\n",
    "# ran into divide by 0 error here, need to remember to add eps term\n",
    "\n",
    "bpred = [0.2, 0.7, 0.9, 0.1, 0.2, 0.6]\n",
    "bground = [0, 1, 0, 0, 1, 1]\n",
    "def bce(bpred, bground, eps = 10**-12):\n",
    "    npred = np.array(bpred)\n",
    "    nground = np.array(bground)\n",
    "    npred = np.clip(npred, eps, 1 - eps)  # np.clip limits the values in npred to be within [eps, 1-eps]\n",
    "    return -np.mean(nground * np.log(npred) + (1 - nground) * np.log(1 - npred))\n",
    "\n",
    "print(bce(bpred, bground))\n",
    "\n",
    "#categorical cross entropy is used in multi class classification problems\n",
    "#L = -np.mean(np.sum(y_ground*np.log(y_pred)))\n",
    "\n",
    "def cce(y_pred, y_ground):\n",
    "    np_pred = np.array(y_pred)\n",
    "    np_ground = np.array(y_ground)\n",
    "    eps = 10**-15\n",
    "    np_pred = np.clip(np_pred, eps, 1 - eps)\n",
    "\n",
    "    return -np.mean(np.sum(np_ground * np.log(np_pred), axis=1))\n",
    "\n",
    "y_pred = [\n",
    "    [0.7, 0.2, 0.1],\n",
    "    [0.1, 0.8, 0.1],\n",
    "    [0.2, 0.2, 0.6],\n",
    "]\n",
    "y_ground = [\n",
    "    [1, 0, 0],\n",
    "    [0, 1, 0],\n",
    "    [0, 0, 1],\n",
    "]\n",
    "\n",
    "print(cce(y_pred, y_ground))\n",
    "\n",
    "#hinge loss is used in support vector machines for binary classification\n",
    "# L = np.mean(max(0, 1 - y_pred*y_ground)), y_pred in {1, -1}\n",
    "y_true = [1, -1, 1]\n",
    "y_pred = [2.0, -3.0, 1.5]\n",
    "\n",
    "def hinge_loss(y_true, y_pred):\n",
    "    np_true = np.array(y_true)\n",
    "    np_pred = np.array(y_pred)\n",
    "    return np.mean(np.maximum(0, 1 - np_true*np_pred))\n",
    "\n",
    "print(hinge_loss(y_true, y_pred))\n",
    "\n",
    "#KL divergene is used to measure how one prob dist is different from a different target prob dist\n",
    "#D_KL(P||Q) = Sum_i(P_i * log (P_i/Q_i))\n",
    "# discrete case: arrays of values summing to one\n",
    "# continuous case: integral over probability density functions, but only works if the families are known\n",
    "# how inefficient would it be to encode samples from p using a code optimized for q?\n",
    "def kl_div(p, q, eps=1e-15):\n",
    "    np_p = np.array(p)\n",
    "    np_q = np.array(q)\n",
    "    np_p = np.clip(np_p, eps, 1)   # avoid log(0)\n",
    "    np_q = np.clip(np_q, eps, 1)\n",
    "    np_p = np_p / np_p.sum() # dont use assert, because floating point may not always add to 1 (use .isclose if you really need to)\n",
    "    np_q = np_q / np_q.sum()\n",
    "    return np.sum(np_p * np.log(np_p/np_q))\n",
    "\n",
    "p = [0.4, 0.6]\n",
    "q = [0.5, 0.5]\n",
    "\n",
    "print(kl_div(p, q))\n"
   ]
  },
  {
   "cell_type": "code",
   "execution_count": 10,
   "id": "3237073c",
   "metadata": {},
   "outputs": [
    {
     "name": "stdout",
     "output_type": "stream",
     "text": [
      "[25.     22.5625 20.25   18.0625 16.     14.0625 12.25   10.5625  9.\n",
      "  7.5625  6.25    5.0625  4.      3.0625  2.25    1.5625  1.      0.5625\n",
      "  0.25    0.0625  0.      0.0625  0.25    0.5625  1.      1.5625  2.25\n",
      "  3.0625  4.      5.0625  6.25    7.5625  9.     10.5625 12.25   14.0625\n",
      " 16.     18.0625 20.25   22.5625]\n"
     ]
    },
    {
     "data": {
      "text/plain": [
       "[<matplotlib.lines.Line2D at 0x11462afe0>]"
      ]
     },
     "execution_count": 10,
     "metadata": {},
     "output_type": "execute_result"
    },
    {
     "data": {
      "image/png": "[encoded data removed]",
      "text/plain": [
       "<Figure size 640x480 with 1 Axes>"
      ]
     },
     "metadata": {},
     "output_type": "display_data"
    }
   ],
   "source": [
    "xs = np.arange(-5, 5, 0.25) # creates an array from -5 to 5, with step size 0.25\n",
    "\n",
    "def f(x):\n",
    "    return x**2\n",
    "ys = f(xs)\n",
    "print(f(xs)) # you can call the function on an entire array and it will return an array of the same shape with the function applied element-wise\n",
    "\n",
    "plt.plot(xs, ys)"
   ]
  },
  {
   "cell_type": "markdown",
   "id": "792743fd",
   "metadata": {},
   "source": [
    "manual linear regression\n",
    "\n",
    "- we are modelling a linear relationship between x and y as\n",
    "$$ y = wx + b$$\n",
    "- And we are defining w and b using MSE (as defined above) and we want to iteratively move towards a lower mse using gradient descent, given by\n",
    "\n",
    "$$ w = w - \\eta * \\frac{\\partial L}{\\partial w}, b = b - \\eta * \\frac{\\partial L}{\\partial b} $$\n",
    "where $\\eta$ is the learning rate\n"
   ]
  },
  {
   "cell_type": "markdown",
   "id": "24bc2a1b",
   "metadata": {},
   "source": [
    "until convergence/in range len(epochs)\n",
    "- L = MSE error tween y and mx + b\n",
    "- calculate $a = \\frac{\\partial L}{\\partial w} \\text{and} c = \\frac{\\partial L}{\\partial b}$\n",
    "- w = w - $\\eta$ a\n",
    "- b = b - $\\eta$ c\n",
    "- Implementation below"
   ]
  },
  {
   "cell_type": "code",
   "execution_count": 11,
   "id": "2062f0dd",
   "metadata": {},
   "outputs": [
    {
     "data": {
      "text/plain": [
       "<matplotlib.collections.PathCollection at 0x1146f7970>"
      ]
     },
     "execution_count": 11,
     "metadata": {},
     "output_type": "execute_result"
    },
    {
     "data": {
      "image/png": "[encoded data removed]",
      "text/plain": [
       "<Figure size 640x480 with 1 Axes>"
      ]
     },
     "metadata": {},
     "output_type": "display_data"
    }
   ],
   "source": [
    "np.random.seed(0)\n",
    "x = np.linspace(0, 10, 50) # 50 points between 0 and 10\n",
    "y = 3*x  + 2 + np.random.randn(*x.shape) # y = 3x + 2 + noise\n",
    "\n",
    "plt.scatter(x,y)"
   ]
  },
  {
   "cell_type": "markdown",
   "id": "3e0ff7c3",
   "metadata": {},
   "source": [
    "now we write the actual functions\n",
    "- initialise w, b to be random numbers\n",
    "- define learning rate, epoch length"
   ]
  },
  {
   "cell_type": "code",
   "execution_count": 12,
   "id": "1d98325d",
   "metadata": {},
   "outputs": [],
   "source": [
    "w, b = np.random.randn(), np.random.randn()  # random initialisation of weight and bias\n",
    "lr = 0.01  # learning rate\n",
    "epochs = 200  # number of iterations"
   ]
  },
  {
   "cell_type": "markdown",
   "id": "f4eac157",
   "metadata": {},
   "source": [
    "training code"
   ]
  },
  {
   "cell_type": "code",
   "execution_count": 14,
   "id": "e288a986",
   "metadata": {},
   "outputs": [
    {
     "name": "stdout",
     "output_type": "stream",
     "text": [
      "Epoch 000 | Loss: 57.5116\n",
      "Epoch 020 | Loss: 1.8119\n",
      "Epoch 040 | Loss: 1.6806\n",
      "Epoch 060 | Loss: 1.5732\n",
      "Epoch 080 | Loss: 1.4855\n",
      "Epoch 100 | Loss: 1.4139\n",
      "Epoch 120 | Loss: 1.3553\n",
      "Epoch 140 | Loss: 1.3075\n",
      "Epoch 160 | Loss: 1.2684\n",
      "Epoch 180 | Loss: 1.2365\n",
      "Final w: 2.959, b: 2.174\n"
     ]
    }
   ],
   "source": [
    "for epoch in range(epochs):\n",
    "    pred = w * x + b\n",
    "    dw = (-2/len(x)) * np.sum((y - pred) * x)  # derivative of MSE w.r.t w\n",
    "    db = (-2/len(x)) * np.sum(y - pred)  # derivative\n",
    "    w = w - lr * dw\n",
    "    b = b - lr * db\n",
    "\n",
    "    if epoch % 20 == 0:\n",
    "        loss = np.mean((y - pred)**2)\n",
    "        print(f\"Epoch {epoch:03d} | Loss: {loss:.4f}\")\n",
    "\n",
    "print(f\"Final w: {w:.3f}, b: {b:.3f}\")"
   ]
  },
  {
   "cell_type": "code",
   "execution_count": 16,
   "id": "eb07e6d7",
   "metadata": {},
   "outputs": [
    {
     "data": {
      "image/png": "[encoded data removed]",
      "text/plain": [
       "<Figure size 640x480 with 1 Axes>"
      ]
     },
     "metadata": {},
     "output_type": "display_data"
    }
   ],
   "source": [
    "plt.scatter(x, y, label='Data')\n",
    "plt.plot(x, w*x + b, color='r', label='Fitted line')\n",
    "plt.legend()\n",
    "plt.show()"
   ]
  }
 ],
 "metadata": {
  "kernelspec": {
   "display_name": "Python (raga)",
   "language": "python",
   "name": "raga"
  },
  "language_info": {
   "codemirror_mode": {
    "name": "ipython",
    "version": 3
   },
   "file_extension": ".py",
   "mimetype": "text/x-python",
   "name": "python",
   "nbconvert_exporter": "python",
   "pygments_lexer": "ipython3",
   "version": "3.10.18"
  }
 },
 "nbformat": 4,
 "nbformat_minor": 5
}
