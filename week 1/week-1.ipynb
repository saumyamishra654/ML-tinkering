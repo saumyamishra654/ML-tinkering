{
 "cells": [
  {
   "cell_type": "code",
   "execution_count": 1,
   "id": "09b6492d",
   "metadata": {},
   "outputs": [],
   "source": [
    "import numpy as np"
   ]
  },
  {
   "cell_type": "markdown",
   "id": "bb615e43",
   "metadata": {},
   "source": [
    "Argmax"
   ]
  },
  {
   "cell_type": "code",
   "execution_count": null,
   "id": "30dfd742",
   "metadata": {},
   "outputs": [
    {
     "name": "stdout",
     "output_type": "stream",
     "text": [
      "1\n"
     ]
    }
   ],
   "source": [
    "#argmax is defined as the index of the maximum value in a given array\n",
    "def Argmax(x):\n",
    "    y = max(x)\n",
    "    return x.index(y)\n",
    "\n",
    "x = [1, 5, 4, 3]\n",
    "print(Argmax(x))"
   ]
  },
  {
   "cell_type": "markdown",
   "id": "6a3ab2d4",
   "metadata": {},
   "source": [
    "Mean"
   ]
  },
  {
   "cell_type": "code",
   "execution_count": 7,
   "id": "0c02375a",
   "metadata": {},
   "outputs": [
    {
     "name": "stdout",
     "output_type": "stream",
     "text": [
      "3.25\n"
     ]
    }
   ],
   "source": [
    "#mean is just sum of all elements divided by number of elements\n",
    "def Mean(x):\n",
    "    total = 0\n",
    "    for i in range(len(x)):\n",
    "        total += x[i]\n",
    "    mean = total/len(x)\n",
    "    return mean\n",
    "\n",
    "print(Mean(x))"
   ]
  },
  {
   "cell_type": "markdown",
   "id": "8a950496",
   "metadata": {},
   "source": [
    "Softmax"
   ]
  },
  {
   "cell_type": "code",
   "execution_count": 18,
   "id": "5a998d1c",
   "metadata": {},
   "outputs": [],
   "source": [
    "x = [1001, 1002, 1003]"
   ]
  },
  {
   "cell_type": "code",
   "execution_count": 19,
   "id": "c41cd191",
   "metadata": {},
   "outputs": [
    {
     "name": "stdout",
     "output_type": "stream",
     "text": [
      "[nan, nan, nan]\n"
     ]
    },
    {
     "name": "stderr",
     "output_type": "stream",
     "text": [
      "/var/folders/dr/7jrw49755h70bsy03x6hy14c0000gn/T/ipykernel_22462/2029364812.py:8: RuntimeWarning: overflow encountered in exp\n",
      "  exp.append(np.exp(z))\n",
      "/var/folders/dr/7jrw49755h70bsy03x6hy14c0000gn/T/ipykernel_22462/2029364812.py:13: RuntimeWarning: overflow encountered in exp\n",
      "  soft.append(np.exp(z)/s)\n",
      "/var/folders/dr/7jrw49755h70bsy03x6hy14c0000gn/T/ipykernel_22462/2029364812.py:13: RuntimeWarning: invalid value encountered in scalar divide\n",
      "  soft.append(np.exp(z)/s)\n"
     ]
    }
   ],
   "source": [
    "#softmax formula is used to turn raw numbers into probability scores that sum up to one\n",
    "#using the same array as above\n",
    "def Softmax(x):\n",
    "    soft = []\n",
    "    exp = []\n",
    "    for i in range(len(x)):\n",
    "        z = x[i]\n",
    "        exp.append(np.exp(z))\n",
    "\n",
    "    s = np.sum(exp)\n",
    "    for i in range(len(x)):\n",
    "        z = x[i]\n",
    "        soft.append(np.exp(z)/s)\n",
    "    return soft\n",
    "\n",
    "print(Softmax(x))"
   ]
  },
  {
   "cell_type": "markdown",
   "id": "8308bf9e",
   "metadata": {},
   "source": [
    "softmax with numerical stability"
   ]
  },
  {
   "cell_type": "code",
   "execution_count": 20,
   "id": "b0e025fd",
   "metadata": {},
   "outputs": [
    {
     "name": "stdout",
     "output_type": "stream",
     "text": [
      "[0.09003057317038046, 0.24472847105479764, 0.6652409557748218]\n"
     ]
    }
   ],
   "source": [
    "#same thing as above, but subtbract the max from each element for numerical stability\n",
    "def Softmax_stable(x):\n",
    "    soft = []\n",
    "    exp = []\n",
    "    maax = max(x)\n",
    "    for i in range(len(x)):\n",
    "        z = x[i]\n",
    "        exp.append(np.exp(z - maax))\n",
    "\n",
    "    s = np.sum(exp)\n",
    "    for i in range(len(x)):\n",
    "        z = exp[i]\n",
    "        soft.append(z/s)\n",
    "    return soft\n",
    "\n",
    "print(Softmax_stable(x))"
   ]
  },
  {
   "cell_type": "markdown",
   "id": "6ab98714",
   "metadata": {},
   "source": [
    "this is identical to"
   ]
  },
  {
   "cell_type": "code",
   "execution_count": 21,
   "id": "71b8b8ad",
   "metadata": {},
   "outputs": [
    {
     "ename": "ModuleNotFoundError",
     "evalue": "No module named 'torch'",
     "output_type": "error",
     "traceback": [
      "\u001b[0;31m---------------------------------------------------------------------------\u001b[0m",
      "\u001b[0;31mModuleNotFoundError\u001b[0m                       Traceback (most recent call last)",
      "Cell \u001b[0;32mIn[21], line 1\u001b[0m\n\u001b[0;32m----> 1\u001b[0m \u001b[38;5;28;01mimport\u001b[39;00m\u001b[38;5;250m \u001b[39m\u001b[38;5;21;01mtorch\u001b[39;00m\n\u001b[1;32m      2\u001b[0m x \u001b[38;5;241m=\u001b[39m torch\u001b[38;5;241m.\u001b[39mtensor([\u001b[38;5;241m1001\u001b[39m, \u001b[38;5;241m1002\u001b[39m, \u001b[38;5;241m1003\u001b[39m])\n\u001b[1;32m      3\u001b[0m torch\u001b[38;5;241m.\u001b[39mnn\u001b[38;5;241m.\u001b[39mfunctional\u001b[38;5;241m.\u001b[39msoftmax(x \u001b[38;5;241m-\u001b[39m x\u001b[38;5;241m.\u001b[39mmax(), dim\u001b[38;5;241m=\u001b[39m\u001b[38;5;241m-\u001b[39m\u001b[38;5;241m1\u001b[39m)\n",
      "\u001b[0;31mModuleNotFoundError\u001b[0m: No module named 'torch'"
     ]
    }
   ],
   "source": [
    "import torch\n",
    "x = torch.tensor([1001, 1002, 1003])\n",
    "torch.nn.functional.softmax(x - x.max(), dim=-1)\n"
   ]
  }
 ],
 "metadata": {
  "kernelspec": {
   "display_name": "Python (raga)",
   "language": "python",
   "name": "raga"
  },
  "language_info": {
   "codemirror_mode": {
    "name": "ipython",
    "version": 3
   },
   "file_extension": ".py",
   "mimetype": "text/x-python",
   "name": "python",
   "nbconvert_exporter": "python",
   "pygments_lexer": "ipython3",
   "version": "3.10.18"
  }
 },
 "nbformat": 4,
 "nbformat_minor": 5
}
