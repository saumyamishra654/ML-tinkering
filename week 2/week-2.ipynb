{
 "cells": [
  {
   "cell_type": "markdown",
   "id": "4f4bd773",
   "metadata": {},
   "source": [
    "## General steps/method\n",
    "- Make value class\n",
    "- Define operations\n",
    "- Verify forward pass and visualisation\n",
    "- Add backwards value store + grad functions"
   ]
  }
 ],
 "metadata": {
  "language_info": {
   "name": "python"
  }
 },
 "nbformat": 4,
 "nbformat_minor": 5
}
